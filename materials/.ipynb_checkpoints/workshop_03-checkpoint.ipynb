{
 "cells": [
  {
   "cell_type": "markdown",
   "id": "a21942a9",
   "metadata": {},
   "source": [
    "# WORKSHOP 3\n",
    "# Selection (if-elif-else)"
   ]
  },
  {
   "cell_type": "markdown",
   "id": "d6d01039",
   "metadata": {},
   "source": [
    "------------\n",
    "\n",
    "### Input:\n",
    "รับจํานวนเต็ม 3 จํานวน\n",
    "\n",
    "### Process: \n",
    "หามัธยฐานของจํานวนทั้ง 3\n",
    "\n",
    "### Output: \n",
    "มัธยฐานที่หาได้\n",
    "\n",
    "### Examples:\n",
    "\n",
    "|  Input  |  Output  |\n",
    "|---------|----------|\n",
    "| 1 <br> 10 <br> 5 | 5 |\n",
    "| 12 <br> 54 <br> 29 | 29 |\n"
   ]
  },
  {
   "cell_type": "code",
   "execution_count": null,
   "id": "43492dc7",
   "metadata": {},
   "outputs": [],
   "source": [
    "\n",
    "\n",
    "\n",
    "\n"
   ]
  },
  {
   "cell_type": "markdown",
   "id": "3112ca02",
   "metadata": {},
   "source": [
    "------------------------\n",
    "\n",
    "\n",
    "### Input: \n",
    "รับข้อมูลของวงกลม 2 วง \n",
    "\n",
    "ชุดข้อมูลของแต่ละวง ประกอบด้วยจํานวนจริง 3 จํานวน แทน พิกัด $x$ กับ $y$ ของจุดศูนย์กลาง และรัศมีของวงกลม  \n",
    "\n",
    "### Process: \n",
    "ตรวจว่าวงกลมสองวงที่รับมาทับกันหรือแตะกัน หรือไม่\n",
    "\n",
    "### Output: \n",
    "แสดงคำว่า touch เมื่อขอบของทั้งสองวงแตะกัน พอดี แสดงคำว่า overlap เมื่อสองวงทับกัน ถ้าไม่แตะ หรือทับ ให้แสดงคำว่า free\n",
    "\n",
    "### Examples:\n",
    "\n",
    "|  Input  |  Output  |\n",
    "|---------|----------|\n",
    "| 0 <br> 0 <br> 5 <br> 0 <br> 0 <br> 10 | free |\n",
    "| 0 <br> 0 <br> 5 <br> 1 <br> 0 <br> 4 | overlap |\n",
    "| 0 <br> 0 <br> 5 <br> 0 <br> 0 <br> 5 | touch |"
   ]
  },
  {
   "cell_type": "code",
   "execution_count": null,
   "id": "ddd15660",
   "metadata": {},
   "outputs": [],
   "source": [
    "\n",
    "\n",
    "\n",
    "\n"
   ]
  },
  {
   "cell_type": "markdown",
   "id": "2875dc52",
   "metadata": {},
   "source": [
    "----------------------\n",
    "\n",
    "\n",
    "### Input: \n",
    "รับจํานวนจริง 2 จํานวน แทนพิกัด $(x,y)$ บนระนาบสองมิติ\n",
    "\n",
    "\n",
    "### Process: \n",
    "ตรวจว่าพิกัด $(x,y)$ อยู่บริเวณใดในระนาบ\n",
    "\n",
    "### Output: \n",
    "ตำแหน่งของพิกัด $(x,y)$ ว่า อยู่ในจตุภาคใด หรืออยู่บนแกน $x$ หรือ $y$ หรืออยู่ที่จุดกําเนิด\n",
    "\n",
    "### Examples:\n",
    "\n",
    "|  Input  |  Output  |\n",
    "|---------|----------|\n",
    "| 0 <br> 0  | Origin |\n",
    "| 1 <br> 0  | x-axis |\n",
    "| 0 <br> -5  | y-axis |\n",
    "| 1 <br> 8  | Q1 |\n",
    "| 1 <br> -8  | Q3 |"
   ]
  },
  {
   "cell_type": "code",
   "execution_count": null,
   "id": "28dc7118",
   "metadata": {},
   "outputs": [],
   "source": [
    "\n",
    "\n",
    "\n",
    "\n"
   ]
  },
  {
   "cell_type": "markdown",
   "id": "7af8b5fc",
   "metadata": {},
   "source": [
    "----------------------------------------------\n",
    "\n",
    "\n",
    "### Input:\n",
    "รับจํานวนเต็ม 5 จํานวน  Process: \n",
    "\n",
    "### Process:\n",
    "ตรวจว่าลำดับจากตัวแรกไปจนถึงจํานวนสุดท้ายที่รับมา เรียงจากน้อยไปมากหรือไม่\n",
    "\n",
    "### Output:\n",
    "ผลการตรวจว่า True หรือ False\n",
    "\n",
    "### Examples:\n",
    "\n",
    "|  Input  |  Output  |\n",
    "|---------|----------|\n",
    "| 1 <br> 2 <br> 3 <br> 4 <br> 5 | True |\n",
    "| 23 <br> 56 <br> 66 <br> 4 <br> 55 | False |"
   ]
  },
  {
   "cell_type": "code",
   "execution_count": null,
   "id": "59128717",
   "metadata": {},
   "outputs": [],
   "source": [
    "\n",
    "\n",
    "\n",
    "\n",
    "\n"
   ]
  },
  {
   "cell_type": "markdown",
   "id": "e0acffa8",
   "metadata": {},
   "source": [
    "----------------------------\n",
    "\n",
    "\n",
    "### Input: \n",
    "รับจํานวนเต็ม 4 จํานวน\n",
    "\n",
    "### Process: \n",
    "หาผลรวมของจำนวนที่รับมา โดยไม่รวมจำนวนที่มากสุดหนึ่งจํานวน และจำนวนที่น้อยสุดหนึ่งจำนวน\n",
    "\n",
    "### Output: \n",
    "ผลรวมที่หาได้\n",
    "\n",
    "\n",
    "### Examples:\n",
    "\n",
    "|  Input  |  Output  |\n",
    "|---------|----------|\n",
    "| 1 <br> 2 <br> 3 <br> 4  | 5 |\n",
    "| 20 <br> 10 <br> 10 <br> 30  | 30 |\n"
   ]
  },
  {
   "cell_type": "code",
   "execution_count": null,
   "id": "5d901c7c",
   "metadata": {},
   "outputs": [],
   "source": [
    "\n",
    "\n",
    "\n",
    "\n"
   ]
  },
  {
   "cell_type": "markdown",
   "id": "39785ec9",
   "metadata": {},
   "source": [
    "-------------------------------\n",
    "\n",
    "\n",
    "### Input: \n",
    "รับจํานวนเต็มแทนรอบอก (หน่วยเป็นนิ้ว)\n",
    "\n",
    "### Process: \n",
    "หาขนาดของเสื้อยืดโปโลตามรอบอกดังนี้ \n",
    "\n",
    "- น้อยกว่า 37 นิ้ว ขนาด XS \n",
    "- ตั้งแต่ 37 แต่ไม่ถึง 41 นิ้ว ขนาด S \n",
    "- ตั้งแต่ 41 แต่ไม่ถึง 43 นิ้ว ขนาด M \n",
    "- ตั้งแต่ 43 แต่ไม่ถึง 46 นิ้ว ขนาด L\n",
    "- ตั้งแต่ 46 นิ้วเป็นต้นไป ขนาด XL \n",
    "\n",
    "### Output: \n",
    "ขนาดเสื้อโปโลตามรอบอกที่ได้รับ\n",
    "\n",
    "### Examples:\n",
    "\n",
    "|  Input  |  Output  |\n",
    "|---------|----------|\n",
    "| 32  |  XS |\n",
    "| 42  |  M |\n",
    "| 56  |  XL |"
   ]
  },
  {
   "cell_type": "code",
   "execution_count": null,
   "id": "6de29cac",
   "metadata": {},
   "outputs": [],
   "source": [
    "\n",
    "\n",
    "\n",
    "\n"
   ]
  }
 ],
 "metadata": {
  "kernelspec": {
   "display_name": "Python 3 (ipykernel)",
   "language": "python",
   "name": "python3"
  },
  "language_info": {
   "codemirror_mode": {
    "name": "ipython",
    "version": 3
   },
   "file_extension": ".py",
   "mimetype": "text/x-python",
   "name": "python",
   "nbconvert_exporter": "python",
   "pygments_lexer": "ipython3",
   "version": "3.9.9"
  }
 },
 "nbformat": 4,
 "nbformat_minor": 5
}
