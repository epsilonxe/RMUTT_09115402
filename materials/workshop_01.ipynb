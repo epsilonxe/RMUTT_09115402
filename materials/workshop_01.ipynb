{
 "cells": [
  {
   "cell_type": "markdown",
   "id": "dd978547",
   "metadata": {},
   "source": [
    "# WORKSHOP 01\n",
    "\n",
    "----------------------------"
   ]
  },
  {
   "cell_type": "markdown",
   "id": "d6d01039",
   "metadata": {},
   "source": [
    "## PROBLEM 01\n",
    "\n",
    "Input: รับจำนวนเต็ม 3 จำนวนจากแป้นพิมพ์  เก็บในตัวแปร h, m และ s ซึ่งแทนจำนวน ชั่วโมง นาที และ วินาที\n",
    "\n",
    "Process: คำนวณจำนวนวินาทีรวมที่คิดจาก h, m และ s \n",
    "\n",
    "Output: จำนวนวินาทีรวมทั้งหมดที่คำนวณได้"
   ]
  },
  {
   "cell_type": "code",
   "execution_count": null,
   "id": "43492dc7",
   "metadata": {},
   "outputs": [],
   "source": [
    "\n",
    "\n",
    "\n",
    "\n"
   ]
  },
  {
   "cell_type": "markdown",
   "id": "3112ca02",
   "metadata": {},
   "source": [
    "## PROBLEM 02\n",
    "\n",
    "Input: รับจำนวนจริง 1 จำนวนจากแป้นพิมพ์ เก็บใน x \n",
    "\n",
    "Process: คำนวณ $$ y = 2 - x + \\dfrac{x^2}{5} - \\dfrac{2x^3}{x-1} + \\log_{2}(x) $$\n",
    "\n",
    "Output: ค่า y ที่คำนวณได้"
   ]
  },
  {
   "cell_type": "code",
   "execution_count": null,
   "id": "ddd15660",
   "metadata": {},
   "outputs": [],
   "source": [
    "\n",
    "\n",
    "\n",
    "\n"
   ]
  },
  {
   "cell_type": "markdown",
   "id": "2875dc52",
   "metadata": {},
   "source": [
    "## PROBLEM 03\n",
    "\n",
    "Input: รับจำนวนจริง 1 จำนวนจากแป้นพิมพ์ เก็บใน a \n",
    "\n",
    "Process: ให้ x มีค่าเป็น 1 จากน้ันทำคำสั่ง ``x = (x + a/x)/2`` จำนวน 4 ครั้ง\n",
    "\n",
    "Output: ค่า x ที่ได้จากการทำงานข้างบนนี้"
   ]
  },
  {
   "cell_type": "code",
   "execution_count": null,
   "id": "28dc7118",
   "metadata": {},
   "outputs": [],
   "source": [
    "\n",
    "\n",
    "\n",
    "\n"
   ]
  },
  {
   "cell_type": "markdown",
   "id": "e0acffa8",
   "metadata": {},
   "source": [
    "## PROBLEM 04\n",
    "\n",
    "Input: มี 2 บรรทัด แต่ละบรรทัดมีจำนวนจริง 3 จำนวน คั่นด้วย ช่องว่าง \n",
    "\n",
    "อ่านบรรทัดแรกเก็บใน v1, v2, v3 แทนเวกเตอร์ $$ v = (v_1, v_2, v_3) \\in \\mathbb{R}^3 $$ \n",
    "\n",
    "อ่านบรรทัดที่สองเก็บใส่ u1, u2, u3 แทน เวกเตอร์ $$ u = (u_1, u_2, u_3) \\in \\mathbb{R}^3 $$\n",
    "\n",
    "Process: คำนวณ dot product ของเวกเตอร์ v กับ u \n",
    "\n",
    "Output: ค่า dot product ที่คำนวณได้\n",
    "\n"
   ]
  },
  {
   "cell_type": "code",
   "execution_count": null,
   "id": "5d901c7c",
   "metadata": {},
   "outputs": [],
   "source": [
    "\n",
    "\n",
    "\n",
    "\n"
   ]
  },
  {
   "cell_type": "markdown",
   "id": "39785ec9",
   "metadata": {},
   "source": [
    "## PROBLEM 05\n",
    "\n",
    "Input: อ่านจำนวนจริง 4 จำนวนคั่นด้วยช่องว่างจากแป้นพิมพ์ เก็บใน x1, y1, x2 และ y2 \n",
    "\n",
    "ค่าของ x1, y1 แทนพิกัดของจุดที่ 1 $p_1 = (x_1, y_1) \\in \\mathbb{R}^2$ \n",
    "\n",
    "และ x2, y2 แทนพิกัดของจุดที่ 2  $p_2 = (x_2, y_2) \\in \\mathbb{R}^2$ บนระนาบ $xy$\n",
    "\n",
    "Process: คำนวณระยะห่างสั้นสุดระหว่างจุดทั้งสอง $$d(p_1,p_2) = \\sqrt{(x_1 - x_2)^2 + (y_1 - y_2)^2} $$\n",
    "\n",
    "Output: ระยะห่างที่หาได้"
   ]
  },
  {
   "cell_type": "code",
   "execution_count": null,
   "id": "6de29cac",
   "metadata": {},
   "outputs": [],
   "source": [
    "\n",
    "\n",
    "\n",
    "\n"
   ]
  },
  {
   "cell_type": "markdown",
   "id": "a57e4707",
   "metadata": {},
   "source": [
    "## PROBLEM 06\n",
    "\n",
    "Input: รับข้อมูล 3 ตัว a, b กับ c คั่นด้วยช่องว่าง\n",
    "\n",
    "a และ b เป็นตัวอักษร ส่วน c เป็นจำานวนเต็ม\n",
    "\n",
    "Output: ตัวอักษรใน a ต่อกับตัวอักษรใน b ต่อกับ ค่าของจำนวนเต็มใน c ต่อกับ ชุดของตัวอักษรใน a ต่อกับตัวอักษร ใน b ที่ซ้ำ ๆ กันเป็นจำนวน c ชุด\n",
    "\n",
    "เช่นผู้ใช้ป้อน  ```v o 5``` ผลลัพธ์จะแสดงเป็น ```vo5vovovovovo```"
   ]
  },
  {
   "cell_type": "code",
   "execution_count": null,
   "id": "7dff9840",
   "metadata": {},
   "outputs": [],
   "source": [
    "\n",
    "\n",
    "\n",
    "\n"
   ]
  },
  {
   "cell_type": "markdown",
   "id": "9687793b",
   "metadata": {},
   "source": [
    "----------------------------------------------"
   ]
  }
 ],
 "metadata": {
  "kernelspec": {
   "display_name": "Python 3 (ipykernel)",
   "language": "python",
   "name": "python3"
  },
  "language_info": {
   "codemirror_mode": {
    "name": "ipython",
    "version": 3
   },
   "file_extension": ".py",
   "mimetype": "text/x-python",
   "name": "python",
   "nbconvert_exporter": "python",
   "pygments_lexer": "ipython3",
   "version": "3.9.9"
  }
 },
 "nbformat": 4,
 "nbformat_minor": 5
}
