{
 "cells": [
  {
   "cell_type": "markdown",
   "id": "a21942a9",
   "metadata": {},
   "source": [
    "# WORKSHOP A4\n",
    "# POWER OF ITERATIONS"
   ]
  },
  {
   "cell_type": "markdown",
   "id": "d6d01039",
   "metadata": {},
   "source": [
    "------------\n",
    "\n",
    "### Input:\n",
    "ไม่มี\n",
    "\n",
    "### Process: \n",
    "หาจํานวนเต็มบวก $k$ ทีมีค่าน้อยสุดที่ทําให้ \n",
    "\n",
    "$$ \\left(\\dfrac{1}{k}\\right)\\cdot k $$\n",
    "\n",
    "มีค่าไม่เท่ากับ 1\n",
    "\n",
    "### Output: \n",
    "จํานวนเต็ม $k$ ที่หาได้ \n",
    "\n",
    "<!-- ### Examples:\n",
    "\n",
    "|  Input  |  Output  |\n",
    "|---------|----------|\n",
    "| 1 <br> 10 <br> 5 | 5 |\n",
    "| 12 <br> 54 <br> 29 | 29 | -->\n"
   ]
  },
  {
   "cell_type": "code",
   "execution_count": null,
   "id": "43492dc7",
   "metadata": {},
   "outputs": [],
   "source": [
    "\n",
    "\n",
    "\n"
   ]
  },
  {
   "cell_type": "markdown",
   "id": "8d020b4a-dc84-4454-90e3-91ffc0fdb8f5",
   "metadata": {},
   "source": [
    "------------\n",
    "------------\n",
    "\n",
    "### Input:\n",
    "ไม่มี\n",
    "\n",
    "### Process: \n",
    "หาจํานวนเต็มบวก $k$ ทีมีค่าน้อยสุดที่ทําให้\n",
    "\n",
    "$$ 1 - \\left(\\dfrac{365-1}{365}\\right)\\left(\\dfrac{365-2}{365}\\right)\\left(\\dfrac{365-3}{365}\\right)\\cdots\\left(\\dfrac{365-k}{365}\\right) \\geq 0.5 $$\n",
    "\n",
    "เป็นจริง\n",
    "\n",
    "### Output: \n",
    "จํานวนเต็ม $k$ ที่หาได้ \n",
    "\n",
    "<!-- ### Examples:\n",
    "\n",
    "|  Input  |  Output  |\n",
    "|---------|----------|\n",
    "| 1 <br> 10 <br> 5 | 5 |\n",
    "| 12 <br> 54 <br> 29 | 29 | -->\n"
   ]
  },
  {
   "cell_type": "code",
   "execution_count": null,
   "id": "8830aa87-77bb-49f0-b49c-c06011ffdaf3",
   "metadata": {},
   "outputs": [],
   "source": [
    "\n",
    "\n",
    "\n",
    "\n"
   ]
  },
  {
   "cell_type": "markdown",
   "id": "9363efef",
   "metadata": {},
   "source": [
    "---------------\n",
    "---------------\n",
    "\n",
    "### Input:\n",
    "ไม่มี\n",
    "\n",
    "### Process: \n",
    "ประมาณค่าของ $\\pi$ จากสูตร\n",
    "\n",
    "$$ 4\\left( 1 - \\frac{1}{3} + \\frac{1}{5} - \\frac{1}{7} + \\ldots + \\frac{1}{399997} - \\frac{1}{399999} \\right) = 4\\cdot\\sum_{k=1}^{200000} \\dfrac{(-1)^k}{2k-1} $$\n",
    "\n",
    "\n",
    "### Output: \n",
    "ค่า $\\pi$ ที่หาได้ "
   ]
  },
  {
   "cell_type": "code",
   "execution_count": null,
   "id": "38f0828b",
   "metadata": {},
   "outputs": [],
   "source": [
    "\n",
    "\n",
    "\n",
    "\n"
   ]
  },
  {
   "cell_type": "markdown",
   "id": "560ef200",
   "metadata": {},
   "source": [
    "------------\n",
    "------------\n",
    "\n",
    "### Input:\n",
    "\n",
    "จํานวนเต็ม 2 จํานวน $a$ และ $b$\n",
    "\n",
    "\n",
    "### Process: \n",
    "คํานวณค่า $P$ จากสูตร\n",
    "\n",
    "$$ P =  \\sum_{i=a}^{b-1} \\left( (-1)^{i} \\sum_{j=i+1}^{b} (i+j)  \\right)  $$\n",
    "\n",
    "\n",
    "### Output: \n",
    "ค่า $P$ ที่หาได้ \n",
    "\n",
    "<!-- ### Examples:\n",
    "\n",
    "|  Input  |  Output  |\n",
    "|---------|----------|\n",
    "| 1 <br> 10 <br> 5 | 5 |\n",
    "| 12 <br> 54 <br> 29 | 29 | -->\n"
   ]
  },
  {
   "cell_type": "code",
   "execution_count": null,
   "id": "64bb85f1-7e31-4911-8419-37d69ec0fb17",
   "metadata": {},
   "outputs": [],
   "source": [
    "\n",
    "    \n",
    "\n",
    "\n"
   ]
  },
  {
   "cell_type": "markdown",
   "id": "ffe0a2b2",
   "metadata": {},
   "source": [
    "------------\n",
    "------------\n",
    "\n",
    "### Input:\n",
    "\n",
    "จํานวนเต็ม 2 จํานวน $a$ และ $b$\n",
    "\n",
    "\n",
    "### Process: \n",
    "คํานวณค่า $L$ จากสูตร\n",
    "\n",
    "$$ L =  \\sum_{a \\leq i < j \\leq b} (-1)^i (i+j)  $$\n",
    "\n",
    "\n",
    "### Output: \n",
    "ค่า $L$ ที่หาได้ \n",
    "\n",
    "<!-- ### Examples:\n",
    "\n",
    "|  Input  |  Output  |\n",
    "|---------|----------|\n",
    "| 1 <br> 10 <br> 5 | 5 |\n",
    "| 12 <br> 54 <br> 29 | 29 | -->\n"
   ]
  },
  {
   "cell_type": "code",
   "execution_count": null,
   "id": "52f41a40",
   "metadata": {},
   "outputs": [],
   "source": [
    "\n",
    "\n",
    "\n",
    "\n"
   ]
  },
  {
   "cell_type": "markdown",
   "id": "927119d8",
   "metadata": {},
   "source": [
    "------------\n",
    "------------\n",
    "\n",
    "### Input:\n",
    "\n",
    "จํานวนเต็มบวก `n` จำนวน\n",
    "\n",
    "### Process: \n",
    "หาผลต่างของค่ามากสุดกับค่าน้อยสุด และหาว่ามีกี่จํานวนที่เป็นจำนวนเต็มลบ\n",
    "\n",
    "\n",
    "### Output: \n",
    "ผลต่าง และจํานวน inputs ที่เป็นจำนวนเต็มลบ\n",
    "\n",
    "### Examples:\n",
    "\n",
    "|  Input  |  Output  |\n",
    "|---------|----------|\n",
    "| 1 <br> 10 <br> 5 | 9 <br> 0 |\n",
    "| 12 <br> -50 <br> 30 <br> -1 | 80 <br> 2 |\n"
   ]
  },
  {
   "cell_type": "markdown",
   "id": "5015c712",
   "metadata": {},
   "source": [
    "------------\n",
    "------------\n",
    "ลำดับฟิโบนัชชี (Fibonacci Sequence) คือลำดับที่อยู่ในรูป\n",
    "$$ a_{n} = a_{n-1} + a_{n-2} $$\n",
    "โดยที่ $a_1 = a_2 = 1$\n",
    "\n",
    "\n",
    "### Input:\n",
    "\n",
    "จํานวนเต็มบวก $n$\n",
    "\n",
    "### Process: \n",
    "หาพจน์ที่ $1, 2, 3, \\ldots, n$ ของลำดับฟิโบนัชชี\n",
    "\n",
    "\n",
    "### Output: \n",
    "ลำดับฟิโบนัชชี $a_1, a_2, a_3, \\ldots, a_n$\n",
    "\n",
    "### Examples:\n",
    "\n",
    "|  Input  |  Output  |\n",
    "|---------|----------|\n",
    "| 10  | 1, 1, 2, 3, 5, 8, 13, 21, 34, 55 |\n",
    "| 20 | 1, 1, 2, 3, 5, 8, 13, 21, 34, 55, 89, 144, 233, 377, 610, 987, 1597, 2584, 4181, 6765 |\n",
    "\n",
    "\n",
    "\n",
    "\n"
   ]
  },
  {
   "cell_type": "code",
   "execution_count": null,
   "id": "d896c048",
   "metadata": {},
   "outputs": [],
   "source": [
    "\n",
    "\n",
    "\n"
   ]
  },
  {
   "cell_type": "markdown",
   "id": "d4ad82e0",
   "metadata": {},
   "source": [
    "------------\n",
    "------------\n",
    "\n",
    "### Input:\n",
    "\n",
    "จํานวนเต็มบวก $n$         .\n",
    "\n",
    "### Process: \n",
    "หาจํานวนเต็มบวก $w,x,y$ และ $z$ ทั้งหมดที่\n",
    "\n",
    "$$ w^2 = x^2 + y^2 + z^2 $$ \n",
    "\n",
    "โดยที่ $1 \\leq x \\leq y \\leq z \\leq n$\n",
    "\n",
    "\n",
    "### Output: \n",
    "ค่าของ $w,x,y$ และ $z$ ที่หาได้\n",
    "\n",
    "### Examples:\n",
    "\n",
    "|  Input  |  Output  |\n",
    "|---------|----------|\n",
    "| n=5     | w=3, x=1, y=2, z=2<br>w=6, x=2, y=4, z=4 |\n",
    "| n=10 | w=3, x=1, y=2, z=2<br>w=9, x=1, y=4, z=8<br>w=7, x=2, y=3, z=6<br>w=6, x=2, y=4, z=4<br>w=11, x=2, y=6, z=9<br>w=9, x=3, y=6, z=6<br>w=9, x=4, y=4, z=7<br>w=12, x=4, y=8, z=8<br>w=15, x=5, y=10, z=10<br>w=11, x=6, y=6, z=7 |\n"
   ]
  },
  {
   "cell_type": "code",
   "execution_count": null,
   "id": "3fc09b34",
   "metadata": {},
   "outputs": [],
   "source": [
    "\n",
    "\n",
    "\n",
    "\n"
   ]
  },
  {
   "cell_type": "markdown",
   "id": "65500bce",
   "metadata": {},
   "source": [
    "-----------------\n",
    "-----------------\n",
    "### Input:\n",
    "\n",
    "จำนวนเต็มบวก `n` จำนวน\n",
    "\n",
    "### Process: \n",
    "\n",
    "พิมพ์ค่าจำนวนเต็มบวก `n` จำนวน ทั้งหมดออกมา\n",
    "\n",
    "* ถ้าจำนวนนั้นถูกหารด้วย 3 ลงตัว ให้พิมพ์คำว่า `BOO` แทนจำนวนนั้น\n",
    "* ถ้าจำนวนนั้นถูกหารด้วย 5 ลงตัว ให้พิมพ์คำว่า `BEE` แทนจำนวนนั้น\n",
    "* ถ้าจำนวนนั้นถูกหารด้วย 3 และ 5 ลงตัว ให้พิมพ์คำว่า `BOOBEE` แทนจำนวนนั้น\n",
    "\n",
    "### Output: \n",
    "\n",
    "จำนวนทั้งหมดที่รับค่ามา และถูกแสดงผลตามที่กำหนดไว้\n",
    "\n",
    "### Examples:\n",
    "\n",
    "|  Input  |  Output  |\n",
    "|---------|----------|\n",
    "| 1 <br>2 <br>3 <br>4 <br>5 <br>6 <br>7 <br>8 <br>9 <br>10 <br>11 <br>12 <br>13 <br>14 <br>15 <br>16 <br>17 <br>18 <br>19 <br> 20 | 1 <br>2 <br>BOO <br>4 <br>BEE <br>BOO <br>7 <br>8 <br>BOO <br>BEE <br>11 <br>BOO <br>13 <br>14 <br>BOOBEE <br>16 <br>17 <br>BOO <br>19 <br> BOO |\n",
    "| 30 <br>14 <br>11 <br>52 <br>76 <br>78 <br>99 <br>70 <br>92 <br>15 <br>33 <br>67 <br>86 <br>98 <br>98 <br>27 <br>86 <br>81 <br>84 <br>  | BOOBEE <br>14 <br>11 <br>52 <br>76 <br>BOO <br>BOO <br>BEE <br>92 <br>BOOBEE <br>BOO <br>67 <br>86 <br>98 <br>98 <br>BOO <br>86 <br>BOO <br>BOO <br> |\n",
    "\n",
    "\n",
    "\n"
   ]
  },
  {
   "cell_type": "code",
   "execution_count": null,
   "id": "b9299687",
   "metadata": {},
   "outputs": [],
   "source": [
    "\n",
    "\n",
    "\n"
   ]
  },
  {
   "cell_type": "code",
   "execution_count": null,
   "id": "10fdbb9f",
   "metadata": {},
   "outputs": [],
   "source": []
  }
 ],
 "metadata": {
  "kernelspec": {
   "display_name": "Python 3 (ipykernel)",
   "language": "python",
   "name": "python3"
  },
  "language_info": {
   "codemirror_mode": {
    "name": "ipython",
    "version": 3
   },
   "file_extension": ".py",
   "mimetype": "text/x-python",
   "name": "python",
   "nbconvert_exporter": "python",
   "pygments_lexer": "ipython3",
   "version": "3.9.9"
  }
 },
 "nbformat": 4,
 "nbformat_minor": 5
}
